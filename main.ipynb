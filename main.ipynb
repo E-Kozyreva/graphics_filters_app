{
 "cells": [
  {
   "attachments": {},
   "cell_type": "markdown",
   "metadata": {},
   "source": [
    "### Импорт библиотек"
   ]
  },
  {
   "cell_type": "code",
   "execution_count": 6,
   "metadata": {},
   "outputs": [],
   "source": [
    "import os\n",
    "import colorsys\n",
    "import math\n",
    "from PIL import Image"
   ]
  },
  {
   "attachments": {},
   "cell_type": "markdown",
   "metadata": {},
   "source": [
    "### Инверсия изображения\n",
    "> Создайте фильтр, переводящий изображение в инверсию."
   ]
  },
  {
   "cell_type": "code",
   "execution_count": 7,
   "metadata": {},
   "outputs": [
    {
     "data": {
      "text/plain": [
       "0"
      ]
     },
     "execution_count": 7,
     "metadata": {},
     "output_type": "execute_result"
    }
   ],
   "source": [
    "im = Image.open('cat.jpg')                                                      # open the image\n",
    "pix = im.load()                                                                 # load the pixels\n",
    "pixels = list(im.getdata())                                                     # get the pixels as a list of tuples\n",
    "pixels = [(255 - pixel[0], 255 - pixel[1], 255 - pixel[2]) for pixel in pixels] # invert the pixels\n",
    "im.putdata(pixels)                                                              # put the data back into the image\n",
    "im.save('inv_cat.jpg')                                                          # save the image\n",
    "\n",
    "os.system('inv_cat.jpg')                                                        # open the image"
   ]
  },
  {
   "attachments": {},
   "cell_type": "markdown",
   "metadata": {},
   "source": [
    "### Чб изображение\n",
    "> Создайте точечный фильтр, переводящий изображение из цветного в черно-белое."
   ]
  },
  {
   "cell_type": "code",
   "execution_count": 8,
   "metadata": {},
   "outputs": [
    {
     "data": {
      "text/plain": [
       "0"
      ]
     },
     "execution_count": 8,
     "metadata": {},
     "output_type": "execute_result"
    }
   ],
   "source": [
    "def get_color(color):                                                    # define a function to get the color\n",
    "    r = color[0]/255.0                                                   # normalize the color values to be between 0 and 1\n",
    "    g = color[1]/255.0                                                   \n",
    "    b = color[2]/255.0                                                   \n",
    "    h, l, s = colorsys.rgb_to_hls(r, g, b)                               # convert the RGB color to HLS\n",
    "    if l >= .5:                                                          # if the lightness is greater than .5\n",
    "        return (255, 255, 255)                                           # return white\n",
    "    elif l < .5:                                                         # if the lightness is less than .5\n",
    "        return (0,0,0)                                                   # return black\n",
    "\n",
    "\n",
    "im = Image.open('cat.jpg')                                               # open the image\n",
    "pix = im.load()                                                          # load the pixels\n",
    "pixels = list(im.getdata())                                              # get the pixels as a list of tuples\n",
    "pixels = [get_color((pixel[0], pixel[1], pixel[2])) for pixel in pixels] # invert the pixels\n",
    "im.putdata(pixels)                                                       # put the data back into the image\n",
    "im.save('bw_cat.jpg')                                                    # save the image\n",
    "\n",
    "os.system('bw_cat.jpg')                                                  # open the image"
   ]
  },
  {
   "attachments": {},
   "cell_type": "markdown",
   "metadata": {},
   "source": [
    "### Сепия\n",
    "> Создайте точечный фильтр «Сепия», переводящий цветное изображение в изображение песочно-коричневых оттенков. "
   ]
  },
  {
   "cell_type": "code",
   "execution_count": 9,
   "metadata": {},
   "outputs": [
    {
     "data": {
      "text/plain": [
       "0"
      ]
     },
     "execution_count": 9,
     "metadata": {},
     "output_type": "execute_result"
    }
   ],
   "source": [
    "def get_color(color):                                                    # define a function to get the color\n",
    "    r = color[0]                                                         # get the intensity of the color\n",
    "    g = color[1]                                                        \n",
    "    b = color[2]                                                        \n",
    "    intensity = r * 0.36 + g * 0.53 + b * 0.11                           # calculate the intensity of the color\n",
    "    k = 20                                                               # define a constant\n",
    "    new_r = intensity + 2 * k                                            # calculate the new color values\n",
    "    new_g = intensity + 0.5 * k                                       \n",
    "    new_b = intensity - 1 * k\n",
    "    return (int(new_r), int(new_g), int(new_b))                          # return the new color values\n",
    "\n",
    "\n",
    "im = Image.open('cat.jpg')                                               # open the image\n",
    "pix = im.load()                                                          # load the pixels\n",
    "pixels = list(im.getdata())                                              # get the pixels as a list of tuples\n",
    "pixels = [get_color((pixel[0], pixel[1], pixel[2])) for pixel in pixels] # invert the pixels\n",
    "im.putdata(pixels)                                                       # put the data back into the image\n",
    "im.save('sep_cat.jpg')                                                   # save the image\n",
    "\n",
    "os.system('sep_cat.jpg')                                                 # open the image"
   ]
  },
  {
   "attachments": {},
   "cell_type": "markdown",
   "metadata": {},
   "source": [
    "### Увеличене яркости \n",
    "> Создайте точечный фильтр, увеличивающий яркость изображения."
   ]
  },
  {
   "cell_type": "code",
   "execution_count": 10,
   "metadata": {},
   "outputs": [
    {
     "data": {
      "text/plain": [
       "0"
      ]
     },
     "execution_count": 10,
     "metadata": {},
     "output_type": "execute_result"
    }
   ],
   "source": [
    "def get_color(color):                                                    # define a function to get the color\n",
    "    k = 50                                                               # define a constant\n",
    "    r = 255 if color[0] + k > 255 else color[0] + k                      # calculate the new color values\n",
    "    g = 255 if color[1] + k > 255 else color[1] + k\n",
    "    b = 255 if color[2] + k > 255 else color[1] + k\n",
    "    return (r, g, b)                                                     # return the new color values\n",
    "\n",
    "\n",
    "im = Image.open('cat.jpg')                                               # open the image\n",
    "pix = im.load()                                                          # load the pixels\n",
    "pixels = list(im.getdata())                                              # get the pixels as a list of tuples\n",
    "pixels = [get_color((pixel[0], pixel[1], pixel[2])) for pixel in pixels] # invert the pixels\n",
    "im.putdata(pixels)                                                       # put the data back into the image\n",
    "im.save('light_cat.jpg')                                                 # save the image\n",
    "\n",
    "os.system('light_cat.jpg')                                               # open the image"
   ]
  },
  {
   "attachments": {},
   "cell_type": "markdown",
   "metadata": {},
   "source": [
    "### Собель\n",
    "> Создайте матричный фильтр Собеля. "
   ]
  },
  {
   "cell_type": "code",
   "execution_count": 11,
   "metadata": {},
   "outputs": [
    {
     "data": {
      "text/plain": [
       "0"
      ]
     },
     "execution_count": 11,
     "metadata": {},
     "output_type": "execute_result"
    }
   ],
   "source": [
    "img = Image.open('cat.jpg')                                                    # open the image\n",
    "width = img.size[0]                                                            # get the width of the image\n",
    "height = img.size[1]                                                           # get the height of the image\n",
    "newimg = Image.new(\"RGB\", (width, height), \"white\")                            # create a new image\n",
    "\n",
    "sobelx = [[-1, 0, 1], [-2, 0, 2], [-1, 0, 1]]                                  # define the sobel kernels\n",
    "sobely = [[-1, -2, -1], [0, 0, 0], [1, 2, 1]]                                  # define the sobel kernels\n",
    "\n",
    "for x in range(1, width - 1):                                                  # loop through the image\n",
    "    for y in range(1, height - 1):                                             # loop through the image\n",
    "\n",
    "        sumx = 0                                                               # initialize the sum of the sobel kernel\n",
    "        sumy = 0                                                               # initialize the sum of the sobel kernel\n",
    "\n",
    "        for i in range(3):                                                     # loop through the 3x3 sobel kernel\n",
    "            for j in range(3):                                                 # loop through the 3x3 sobel kernel\n",
    "                sumx += img.getpixel((x + i - 1, y + j - 1))[0] * sobelx[i][j] # get the pixel value at (x + i - 1, y + j - 1)\n",
    "                sumy += img.getpixel((x + i - 1, y + j - 1))[0] * sobely[i][j] # get the pixel value at (x + i - 1, y + j - 1)\n",
    "\n",
    "        sumx = math.sqrt(sumx ** 2)                                            # square the sum and take the square root\n",
    "        sumy = math.sqrt(sumy ** 2)                                            # square the sum and take the square root\n",
    "\n",
    "        length = sumx + sumy                                                   # add the two sums\n",
    "        length = length / 2164 * 255                                           # normalize the length                \n",
    "        length = int(length)                                                   # convert the length to an integer\n",
    "\n",
    "        newimg.putpixel((x,y),(length, length, length))                        # set the pixel at (x, y) to the new color\n",
    "\n",
    "newimg.save('sobel_cat.jpg')                                                    # save the image\n",
    "\n",
    "os.system('sobel_cat.jpg')                                                      # open the image"
   ]
  },
  {
   "attachments": {},
   "cell_type": "markdown",
   "metadata": {},
   "source": [
    "### Резкость изображения\n",
    "> Создайте матричный фильтр, повышающий резкость изображения."
   ]
  },
  {
   "cell_type": "code",
   "execution_count": 12,
   "metadata": {},
   "outputs": [
    {
     "data": {
      "text/plain": [
       "0"
      ]
     },
     "execution_count": 12,
     "metadata": {},
     "output_type": "execute_result"
    }
   ],
   "source": [
    "img = Image.open('cat.jpg')                              # open the image\n",
    "width = img.size[0]                                      # get the width and height of the image\n",
    "height = img.size[1] \n",
    "newimg = Image.new(\"RGB\", (width, height), \"white\")      # create a new image\n",
    "\n",
    "# make sharping filter with matrix\n",
    "filt = [[0, -1, 0], [-1, 5, -1], [0, -1, 0]]\n",
    "\n",
    "for x in range(1, width - 1):                            # for every pixel:\n",
    "    for y in range(1, height - 1):                       # except the edges\n",
    "\n",
    "        new_r, new_g, new_b = 0, 0, 0                    # initialize new color values to 0\n",
    "\n",
    "        for a in range(3):                               # for every value in the 3x3 matrix\n",
    "            for b in range(3):\n",
    "\n",
    "                p = img.getpixel((x + a - 1, y + b - 1)) # get the pixel at the corresponding position of the matrix\n",
    "                r, g, b_channel = p[0], p[1], p[2]       # get the red, green, and blue values\n",
    "                new_r += r * filt[a][b]                  # multiply every value of the matrix with its corresponding pixel value\n",
    "                new_g += g * filt[a][b]                  # and sum the result to the new color values\n",
    "                new_b += b_channel * filt[a][b]\n",
    "\n",
    "        new_r = 0 if new_r < 0 else new_r                # make sure the new color values are within the range 0 to 255\n",
    "        new_g = 0 if new_g < 0 else new_g\n",
    "        new_b = 0 if new_b < 0 else new_b\n",
    "\n",
    "        new_r = 255 if new_r > 255 else new_r\n",
    "        new_g = 255 if new_g > 255 else new_g\n",
    "        new_b = 255 if new_b > 255 else new_b\n",
    "\n",
    "        newimg.putpixel((x,y),(new_r, new_g, new_b))     # draw the pixel in the new image\n",
    "\n",
    "newimg.save('sharp_cat.jpg')                             # save the image\n",
    "\n",
    "os.system('sharp_cat.jpg')                               # open the image\n",
    "\n",
    "                                         "
   ]
  }
 ],
 "metadata": {
  "kernelspec": {
   "display_name": "lab_graf",
   "language": "python",
   "name": "python3"
  },
  "language_info": {
   "codemirror_mode": {
    "name": "ipython",
    "version": 3
   },
   "file_extension": ".py",
   "mimetype": "text/x-python",
   "name": "python",
   "nbconvert_exporter": "python",
   "pygments_lexer": "ipython3",
   "version": "3.8.0"
  },
  "orig_nbformat": 4,
  "vscode": {
   "interpreter": {
    "hash": "ad8b041c4a514c985849514dfb29b750768cba7bfa9ecf4f51d4278ab6aad08b"
   }
  }
 },
 "nbformat": 4,
 "nbformat_minor": 2
}
